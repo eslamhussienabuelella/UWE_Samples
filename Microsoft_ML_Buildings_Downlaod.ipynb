{
 "cells": [
  {
   "cell_type": "code",
   "execution_count": 3,
   "id": "da3524a0-b171-403f-82ad-82bb8a33be81",
   "metadata": {},
   "outputs": [
    {
     "name": "stdout",
     "output_type": "stream",
     "text": [
      "Collecting geopandas\n",
      "  Downloading geopandas-1.0.1-py3-none-any.whl.metadata (2.2 kB)\n",
      "Requirement already satisfied: numpy>=1.22 in c:\\users\\eslam.abuelella\\appdata\\local\\anaconda3\\lib\\site-packages (from geopandas) (1.26.4)\n",
      "Collecting pyogrio>=0.7.2 (from geopandas)\n",
      "  Downloading pyogrio-0.10.0-cp312-cp312-win_amd64.whl.metadata (5.6 kB)\n",
      "Requirement already satisfied: packaging in c:\\users\\eslam.abuelella\\appdata\\local\\anaconda3\\lib\\site-packages (from geopandas) (24.1)\n",
      "Requirement already satisfied: pandas>=1.4.0 in c:\\users\\eslam.abuelella\\appdata\\local\\anaconda3\\lib\\site-packages (from geopandas) (2.2.2)\n",
      "Collecting pyproj>=3.3.0 (from geopandas)\n",
      "  Downloading pyproj-3.7.0-cp312-cp312-win_amd64.whl.metadata (31 kB)\n",
      "Collecting shapely>=2.0.0 (from geopandas)\n",
      "  Downloading shapely-2.0.7-cp312-cp312-win_amd64.whl.metadata (7.1 kB)\n",
      "Requirement already satisfied: python-dateutil>=2.8.2 in c:\\users\\eslam.abuelella\\appdata\\local\\anaconda3\\lib\\site-packages (from pandas>=1.4.0->geopandas) (2.9.0.post0)\n",
      "Requirement already satisfied: pytz>=2020.1 in c:\\users\\eslam.abuelella\\appdata\\local\\anaconda3\\lib\\site-packages (from pandas>=1.4.0->geopandas) (2024.1)\n",
      "Requirement already satisfied: tzdata>=2022.7 in c:\\users\\eslam.abuelella\\appdata\\local\\anaconda3\\lib\\site-packages (from pandas>=1.4.0->geopandas) (2023.3)\n",
      "Requirement already satisfied: certifi in c:\\users\\eslam.abuelella\\appdata\\local\\anaconda3\\lib\\site-packages (from pyogrio>=0.7.2->geopandas) (2024.8.30)\n",
      "Requirement already satisfied: six>=1.5 in c:\\users\\eslam.abuelella\\appdata\\local\\anaconda3\\lib\\site-packages (from python-dateutil>=2.8.2->pandas>=1.4.0->geopandas) (1.16.0)\n",
      "Downloading geopandas-1.0.1-py3-none-any.whl (323 kB)\n",
      "Downloading pyogrio-0.10.0-cp312-cp312-win_amd64.whl (16.2 MB)\n",
      "   ---------------------------------------- 0.0/16.2 MB ? eta -:--:--\n",
      "   ------- -------------------------------- 2.9/16.2 MB 15.2 MB/s eta 0:00:01\n",
      "   ---------------- ----------------------- 6.6/16.2 MB 16.1 MB/s eta 0:00:01\n",
      "   ------------------------- -------------- 10.2/16.2 MB 16.8 MB/s eta 0:00:01\n",
      "   ------------------------------- -------- 12.8/16.2 MB 15.2 MB/s eta 0:00:01\n",
      "   -------------------------------------- - 15.5/16.2 MB 14.7 MB/s eta 0:00:01\n",
      "   ---------------------------------------- 16.2/16.2 MB 13.8 MB/s eta 0:00:00\n",
      "Downloading pyproj-3.7.0-cp312-cp312-win_amd64.whl (6.2 MB)\n",
      "   ---------------------------------------- 0.0/6.2 MB ? eta -:--:--\n",
      "   --------------- ------------------------ 2.4/6.2 MB 11.2 MB/s eta 0:00:01\n",
      "   ----------------------------------- ---- 5.5/6.2 MB 12.9 MB/s eta 0:00:01\n",
      "   ---------------------------------------- 6.2/6.2 MB 12.3 MB/s eta 0:00:00\n",
      "Downloading shapely-2.0.7-cp312-cp312-win_amd64.whl (1.4 MB)\n",
      "   ---------------------------------------- 0.0/1.4 MB ? eta -:--:--\n",
      "   ---------------------------------------- 1.4/1.4 MB 15.1 MB/s eta 0:00:00\n",
      "Installing collected packages: shapely, pyproj, pyogrio, geopandas\n",
      "Successfully installed geopandas-1.0.1 pyogrio-0.10.0 pyproj-3.7.0 shapely-2.0.7\n"
     ]
    }
   ],
   "source": [
    "!pip install geopandas"
   ]
  },
  {
   "cell_type": "code",
   "execution_count": 5,
   "id": "e5d066e9-e1fb-4805-b340-1e25ab021776",
   "metadata": {},
   "outputs": [
    {
     "name": "stdout",
     "output_type": "stream",
     "text": [
      "Collecting mercantile\n",
      "  Downloading mercantile-1.2.1-py3-none-any.whl.metadata (4.8 kB)\n",
      "Requirement already satisfied: click>=3.0 in c:\\users\\eslam.abuelella\\appdata\\local\\anaconda3\\lib\\site-packages (from mercantile) (8.1.7)\n",
      "Requirement already satisfied: colorama in c:\\users\\eslam.abuelella\\appdata\\local\\anaconda3\\lib\\site-packages (from click>=3.0->mercantile) (0.4.6)\n",
      "Downloading mercantile-1.2.1-py3-none-any.whl (14 kB)\n",
      "Installing collected packages: mercantile\n",
      "Successfully installed mercantile-1.2.1\n"
     ]
    }
   ],
   "source": [
    "!pip install mercantile"
   ]
  },
  {
   "cell_type": "code",
   "execution_count": 6,
   "id": "8c226772",
   "metadata": {},
   "outputs": [],
   "source": [
    "import pandas as pd\n",
    "import geopandas as gpd\n",
    "from shapely import geometry\n",
    "import mercantile\n",
    "from tqdm import tqdm\n",
    "import os\n",
    "import tempfile"
   ]
  },
  {
   "cell_type": "code",
   "execution_count": 7,
   "id": "70f7bbf5",
   "metadata": {},
   "outputs": [],
   "source": [
    "# Geometry copied from https://geojson.io\n",
    "aoi_geom = {\n",
    "    \"coordinates\": [\n",
    "          [\n",
    "            [\n",
    "              68.47164779002796,\n",
    "              34.9546713429649\n",
    "            ],\n",
    "            [\n",
    "              68.47164779002796,\n",
    "              34.161837779504765\n",
    "            ],\n",
    "            [\n",
    "              69.9151307000588,\n",
    "              34.161837779504765\n",
    "            ],\n",
    "            [\n",
    "              69.9151307000588,\n",
    "              34.9546713429649\n",
    "            ],\n",
    "            [\n",
    "              68.47164779002796,\n",
    "              34.9546713429649\n",
    "            ]\n",
    "          ]\n",
    "        ],\n",
    "    \"type\": \"Polygon\",\n",
    "}\n",
    "aoi_shape = geometry.shape(aoi_geom)\n",
    "minx, miny, maxx, maxy = aoi_shape.bounds\n",
    "\n",
    "output_fn = \"example_building_footprints_AFG.geojson\""
   ]
  },
  {
   "cell_type": "code",
   "execution_count": 8,
   "id": "d893944e",
   "metadata": {},
   "outputs": [
    {
     "name": "stdout",
     "output_type": "stream",
     "text": [
      "The input area spans 9 tiles: ['123102021', '123102032', '123102201', '123102030', '123102033', '123102023', '123102211', '123102031', '123102210']\n"
     ]
    }
   ],
   "source": [
    "quad_keys = set()\n",
    "for tile in list(mercantile.tiles(minx, miny, maxx, maxy, zooms=9)):\n",
    "    quad_keys.add(mercantile.quadkey(tile))\n",
    "quad_keys = list(quad_keys)\n",
    "print(f\"The input area spans {len(quad_keys)} tiles: {quad_keys}\")"
   ]
  },
  {
   "cell_type": "code",
   "execution_count": 12,
   "id": "351986fd",
   "metadata": {},
   "outputs": [
    {
     "data": {
      "text/html": [
       "<div>\n",
       "<style scoped>\n",
       "    .dataframe tbody tr th:only-of-type {\n",
       "        vertical-align: middle;\n",
       "    }\n",
       "\n",
       "    .dataframe tbody tr th {\n",
       "        vertical-align: top;\n",
       "    }\n",
       "\n",
       "    .dataframe thead th {\n",
       "        text-align: right;\n",
       "    }\n",
       "</style>\n",
       "<table border=\"1\" class=\"dataframe\">\n",
       "  <thead>\n",
       "    <tr style=\"text-align: right;\">\n",
       "      <th></th>\n",
       "      <th>Location</th>\n",
       "      <th>QuadKey</th>\n",
       "      <th>Url</th>\n",
       "      <th>Size</th>\n",
       "      <th>UploadDate</th>\n",
       "    </tr>\n",
       "  </thead>\n",
       "  <tbody>\n",
       "    <tr>\n",
       "      <th>0</th>\n",
       "      <td>Abyei</td>\n",
       "      <td>122320113</td>\n",
       "      <td>https://minedbuildings.z5.web.core.windows.net...</td>\n",
       "      <td>74.7KB</td>\n",
       "      <td>2025-01-06</td>\n",
       "    </tr>\n",
       "    <tr>\n",
       "      <th>1</th>\n",
       "      <td>Abyei</td>\n",
       "      <td>122320131</td>\n",
       "      <td>https://minedbuildings.z5.web.core.windows.net...</td>\n",
       "      <td>8.3KB</td>\n",
       "      <td>2025-01-06</td>\n",
       "    </tr>\n",
       "    <tr>\n",
       "      <th>2</th>\n",
       "      <td>Abyei</td>\n",
       "      <td>122321002</td>\n",
       "      <td>https://minedbuildings.z5.web.core.windows.net...</td>\n",
       "      <td>392.3KB</td>\n",
       "      <td>2025-01-06</td>\n",
       "    </tr>\n",
       "    <tr>\n",
       "      <th>3</th>\n",
       "      <td>Abyei</td>\n",
       "      <td>122321003</td>\n",
       "      <td>https://minedbuildings.z5.web.core.windows.net...</td>\n",
       "      <td>72.7KB</td>\n",
       "      <td>2025-01-06</td>\n",
       "    </tr>\n",
       "    <tr>\n",
       "      <th>4</th>\n",
       "      <td>Abyei</td>\n",
       "      <td>122321020</td>\n",
       "      <td>https://minedbuildings.z5.web.core.windows.net...</td>\n",
       "      <td>1.2MB</td>\n",
       "      <td>2025-01-06</td>\n",
       "    </tr>\n",
       "  </tbody>\n",
       "</table>\n",
       "</div>"
      ],
      "text/plain": [
       "  Location    QuadKey                                                Url  \\\n",
       "0    Abyei  122320113  https://minedbuildings.z5.web.core.windows.net...   \n",
       "1    Abyei  122320131  https://minedbuildings.z5.web.core.windows.net...   \n",
       "2    Abyei  122321002  https://minedbuildings.z5.web.core.windows.net...   \n",
       "3    Abyei  122321003  https://minedbuildings.z5.web.core.windows.net...   \n",
       "4    Abyei  122321020  https://minedbuildings.z5.web.core.windows.net...   \n",
       "\n",
       "      Size  UploadDate  \n",
       "0   74.7KB  2025-01-06  \n",
       "1    8.3KB  2025-01-06  \n",
       "2  392.3KB  2025-01-06  \n",
       "3   72.7KB  2025-01-06  \n",
       "4    1.2MB  2025-01-06  "
      ]
     },
     "execution_count": 12,
     "metadata": {},
     "output_type": "execute_result"
    }
   ],
   "source": [
    "df = pd.read_csv(\n",
    "    \"https://minedbuildings.z5.web.core.windows.net/global-buildings/dataset-links.csv\", dtype=str\n",
    ")\n",
    "df.head()"
   ]
  },
  {
   "cell_type": "code",
   "execution_count": 14,
   "id": "9b68cf90",
   "metadata": {},
   "outputs": [
    {
     "ename": "AttributeError",
     "evalue": "'Series' object has no attribute 'to_crs'",
     "output_type": "error",
     "traceback": [
      "\u001b[1;31m---------------------------------------------------------------------------\u001b[0m",
      "\u001b[1;31mAttributeError\u001b[0m                            Traceback (most recent call last)",
      "\u001b[1;32m~\\AppData\\Local\\Temp\\ipykernel_7660\\969616826.py\u001b[0m in \u001b[0;36m?\u001b[1;34m()\u001b[0m\n\u001b[1;32m----> 1\u001b[1;33m \u001b[0mcombined_gdf\u001b[0m \u001b[1;33m=\u001b[0m \u001b[0mdf\u001b[0m\u001b[1;33m[\u001b[0m\u001b[1;34m'Url'\u001b[0m\u001b[1;33m]\u001b[0m\u001b[1;33m.\u001b[0m\u001b[0mto_crs\u001b[0m\u001b[1;33m(\u001b[0m\u001b[1;34m'EPSG:4326'\u001b[0m\u001b[1;33m)\u001b[0m\u001b[1;33m\u001b[0m\u001b[1;33m\u001b[0m\u001b[0m\n\u001b[0m\u001b[0;32m      2\u001b[0m \u001b[0mcombined_gdf\u001b[0m\u001b[1;33m.\u001b[0m\u001b[0mto_file\u001b[0m\u001b[1;33m(\u001b[0m\u001b[0moutput_fn\u001b[0m\u001b[1;33m,\u001b[0m \u001b[0mdriver\u001b[0m\u001b[1;33m=\u001b[0m\u001b[1;34m\"GeoJSON\"\u001b[0m\u001b[1;33m)\u001b[0m\u001b[1;33m\u001b[0m\u001b[1;33m\u001b[0m\u001b[0m\n\u001b[0;32m      3\u001b[0m \u001b[0mprint\u001b[0m\u001b[1;33m(\u001b[0m\u001b[1;33mf\"\u001b[0m\u001b[1;33mSaved GeoJSON file to: \u001b[0m\u001b[1;33m{\u001b[0m\u001b[0mos\u001b[0m\u001b[1;33m.\u001b[0m\u001b[0mpath\u001b[0m\u001b[1;33m.\u001b[0m\u001b[0mabspath\u001b[0m\u001b[1;33m(\u001b[0m\u001b[0moutput_fn\u001b[0m\u001b[1;33m)\u001b[0m\u001b[1;33m}\u001b[0m\u001b[1;33m\"\u001b[0m\u001b[1;33m)\u001b[0m\u001b[1;33m\u001b[0m\u001b[1;33m\u001b[0m\u001b[0m\n",
      "\u001b[1;32m~\\AppData\\Local\\anaconda3\\Lib\\site-packages\\pandas\\core\\generic.py\u001b[0m in \u001b[0;36m?\u001b[1;34m(self, name)\u001b[0m\n\u001b[0;32m   6295\u001b[0m             \u001b[1;32mand\u001b[0m \u001b[0mname\u001b[0m \u001b[1;32mnot\u001b[0m \u001b[1;32min\u001b[0m \u001b[0mself\u001b[0m\u001b[1;33m.\u001b[0m\u001b[0m_accessors\u001b[0m\u001b[1;33m\u001b[0m\u001b[1;33m\u001b[0m\u001b[0m\n\u001b[0;32m   6296\u001b[0m             \u001b[1;32mand\u001b[0m \u001b[0mself\u001b[0m\u001b[1;33m.\u001b[0m\u001b[0m_info_axis\u001b[0m\u001b[1;33m.\u001b[0m\u001b[0m_can_hold_identifiers_and_holds_name\u001b[0m\u001b[1;33m(\u001b[0m\u001b[0mname\u001b[0m\u001b[1;33m)\u001b[0m\u001b[1;33m\u001b[0m\u001b[1;33m\u001b[0m\u001b[0m\n\u001b[0;32m   6297\u001b[0m         \u001b[1;33m)\u001b[0m\u001b[1;33m:\u001b[0m\u001b[1;33m\u001b[0m\u001b[1;33m\u001b[0m\u001b[0m\n\u001b[0;32m   6298\u001b[0m             \u001b[1;32mreturn\u001b[0m \u001b[0mself\u001b[0m\u001b[1;33m[\u001b[0m\u001b[0mname\u001b[0m\u001b[1;33m]\u001b[0m\u001b[1;33m\u001b[0m\u001b[1;33m\u001b[0m\u001b[0m\n\u001b[1;32m-> 6299\u001b[1;33m         \u001b[1;32mreturn\u001b[0m \u001b[0mobject\u001b[0m\u001b[1;33m.\u001b[0m\u001b[0m__getattribute__\u001b[0m\u001b[1;33m(\u001b[0m\u001b[0mself\u001b[0m\u001b[1;33m,\u001b[0m \u001b[0mname\u001b[0m\u001b[1;33m)\u001b[0m\u001b[1;33m\u001b[0m\u001b[1;33m\u001b[0m\u001b[0m\n\u001b[0m",
      "\u001b[1;31mAttributeError\u001b[0m: 'Series' object has no attribute 'to_crs'"
     ]
    }
   ],
   "source": [
    "combined_gdf = combined_gdf.to_crs('EPSG:4326')\n",
    "combined_gdf.to_file(output_fn, driver=\"GeoJSON\")\n",
    "print(f\"Saved GeoJSON file to: {os.path.abspath(output_fn)}\")"
   ]
  },
  {
   "cell_type": "code",
   "execution_count": 5,
   "id": "c522ac4a",
   "metadata": {},
   "outputs": [
    {
     "name": "stderr",
     "output_type": "stream",
     "text": [
      "100%|████████████████████████████████████████████████████████████████████████████████████| 9/9 [02:28<00:00, 16.46s/it]\n"
     ]
    }
   ],
   "source": [
    "\n",
    "# Assuming df is your DataFrame containing 'QuadKey' and 'Url' columns, and quad_keys is a list of QuadKeys to process\n",
    "# Assuming aoi_shape is your Area of Interest (AOI) shape for filtering geometries\n",
    "\n",
    "idx = 0\n",
    "combined_gdf = gpd.GeoDataFrame()\n",
    "\n",
    "for quad_key in tqdm(quad_keys):\n",
    "    rows = df[df[\"QuadKey\"] == quad_key]\n",
    "    if rows.shape[0] >= 1:  # Allow multiple rows for the same QuadKey\n",
    "        tmp_gdf_list = []\n",
    "        for _, row in rows.iterrows():\n",
    "            url = row[\"Url\"]\n",
    "            df2 = pd.read_json(url, lines=True)\n",
    "            df2[\"geometry\"] = df2[\"geometry\"].apply(geometry.shape)\n",
    "            gdf = gpd.GeoDataFrame(df2, crs=4326)\n",
    "            tmp_gdf_list.append(gdf)\n",
    "\n",
    "        # Combine all GeoDataFrames for the current QuadKey\n",
    "        combined_gdf_quad_key = pd.concat(tmp_gdf_list, ignore_index=True)\n",
    "\n",
    "        # Filter geometries within the AOI\n",
    "        combined_gdf_quad_key = combined_gdf_quad_key[combined_gdf_quad_key.geometry.within(aoi_shape)]\n",
    "\n",
    "        # Update 'id' based on idx\n",
    "        combined_gdf_quad_key['id'] = range(idx, idx + len(combined_gdf_quad_key))\n",
    "        idx += len(combined_gdf_quad_key)\n",
    "\n",
    "        # Combine with the main GeoDataFrame\n",
    "        combined_gdf = pd.concat([combined_gdf, combined_gdf_quad_key], ignore_index=True)\n",
    "    else:\n",
    "        raise ValueError(f\"No rows found for QuadKey: {quad_key}\")\n",
    "\n",
    "\n"
   ]
  },
  {
   "cell_type": "code",
   "execution_count": 6,
   "id": "a889ad2f",
   "metadata": {},
   "outputs": [
    {
     "name": "stdout",
     "output_type": "stream",
     "text": [
      "Saved GeoJSON file to: C:\\Users\\ahmedshehata\\AppData\\Local\\Programs\\ArcGIS\\Pro\\bin\\Python\\envs\\arcgispro-py3\\example_building_footprints_AFG.geojson\n"
     ]
    }
   ],
   "source": [
    "# Save the combined GeoDataFrame to a GeoJSON file\n",
    "combined_gdf.to_file(output_fn, driver=\"GeoJSON\")\n",
    "print(f\"Saved GeoJSON file to: {os.path.abspath(output_fn)}\")"
   ]
  },
  {
   "cell_type": "code",
   "execution_count": null,
   "id": "e9df1234",
   "metadata": {},
   "outputs": [],
   "source": []
  }
 ],
 "metadata": {
  "kernelspec": {
   "display_name": "Python 3 (ipykernel)",
   "language": "python",
   "name": "python3"
  },
  "language_info": {
   "codemirror_mode": {
    "name": "ipython",
    "version": 3
   },
   "file_extension": ".py",
   "mimetype": "text/x-python",
   "name": "python",
   "nbconvert_exporter": "python",
   "pygments_lexer": "ipython3",
   "version": "3.12.7"
  }
 },
 "nbformat": 4,
 "nbformat_minor": 5
}
