{
 "cells": [
  {
   "cell_type": "markdown",
   "metadata": {},
   "source": [
    "1. Create a 2D Numpy array with shape (3, 3) containing random integers \n",
    "between 1 and 20."
   ]
  },
  {
   "cell_type": "code",
   "execution_count": 3,
   "metadata": {},
   "outputs": [
    {
     "name": "stdout",
     "output_type": "stream",
     "text": [
      "Task 1:\n",
      " [[13 11 16]\n",
      " [18 18  2]\n",
      " [ 3  7  9]] \n",
      "\n"
     ]
    }
   ],
   "source": [
    "import numpy as np\n",
    "\n",
    "\n",
    "array_2d = np.random.randint(1, 21, (3, 3))\n",
    "print(\"Task 1:\\n\", array_2d, \"\\n\")\n"
   ]
  },
  {
   "cell_type": "markdown",
   "metadata": {},
   "source": [
    "2. Write a NumPy program to create a 5x5 array with random values and find \n",
    "the minimum and maximum values for each row."
   ]
  },
  {
   "cell_type": "code",
   "execution_count": 3,
   "metadata": {},
   "outputs": [
    {
     "name": "stdout",
     "output_type": "stream",
     "text": [
      "[[0.99981048 0.47934467 0.48122377 0.06933831 0.33130908]\n",
      " [0.60975627 0.78403429 0.58653588 0.50230024 0.56918778]\n",
      " [0.6622837  0.16873564 0.7982912  0.02703109 0.43089593]\n",
      " [0.69147292 0.3981119  0.59649183 0.08229191 0.87794083]\n",
      " [0.90156317 0.97591364 0.03623946 0.97378356 0.49699754]]\n",
      "Task 2:\n",
      "Minimum values for each row: [0.06933831 0.50230024 0.02703109 0.08229191 0.03623946]\n",
      "Maximum values for each row: [0.99981048 0.78403429 0.7982912  0.87794083 0.97591364] \n",
      "\n"
     ]
    }
   ],
   "source": [
    "array_5x5 = np.random.random((5, 5))\n",
    "print(array_5x5)\n",
    "min_values = np.min(array_5x5, axis=1)\n",
    "max_values = np.max(array_5x5, axis=1)\n",
    "print(\"Task 2:\")\n",
    "print(\"Minimum values for each row:\", min_values)\n",
    "print(\"Maximum values for each row:\", max_values, \"\\n\")\n"
   ]
  },
  {
   "cell_type": "markdown",
   "metadata": {},
   "source": [
    "3. Write a NumPy program to create a random vector of size 10 and sort it."
   ]
  },
  {
   "cell_type": "code",
   "execution_count": 4,
   "metadata": {},
   "outputs": [
    {
     "name": "stdout",
     "output_type": "stream",
     "text": [
      "Task 3:\n",
      "Random Vector: [0.21058394 0.62060016 0.12540304 0.65987421 0.23766403 0.87651453\n",
      " 0.04534337 0.70733409 0.18054676 0.36200303]\n",
      "Sorted Vector: [0.04534337 0.12540304 0.18054676 0.21058394 0.23766403 0.36200303\n",
      " 0.62060016 0.65987421 0.70733409 0.87651453] \n",
      "\n"
     ]
    }
   ],
   "source": [
    "random_vector = np.random.random(10)\n",
    "sorted_vector = np.sort(random_vector)\n",
    "print(\"Task 3:\\nRandom Vector:\", random_vector)\n",
    "print(\"Sorted Vector:\", sorted_vector, \"\\n\")"
   ]
  },
  {
   "cell_type": "markdown",
   "metadata": {},
   "source": [
    "4. Write a NumPy program to find the most frequent value in an array"
   ]
  },
  {
   "cell_type": "code",
   "execution_count": 6,
   "metadata": {},
   "outputs": [
    {
     "name": "stdout",
     "output_type": "stream",
     "text": [
      "[9 8 4 9 4 4 5 9 2 9 7 6 1 9 4 1 8 1 7 9]\n",
      "Task 4:\n",
      "Most frequent value: 9 \n",
      "\n"
     ]
    }
   ],
   "source": [
    "array_to_find_mode = np.random.randint(1, 10, 20)\n",
    "print(array_to_find_mode)\n",
    "frequent_value = np.bincount(array_to_find_mode).argmax()\n",
    "print(\"Task 4:\\nMost frequent value:\", frequent_value, \"\\n\")\n"
   ]
  },
  {
   "cell_type": "markdown",
   "metadata": {},
   "source": [
    "5. Create a 2D array (3,8) then reshape it to a 3D array and display it."
   ]
  },
  {
   "cell_type": "code",
   "execution_count": 8,
   "metadata": {},
   "outputs": [
    {
     "name": "stdout",
     "output_type": "stream",
     "text": [
      "Original 2D Array:\n",
      "[[6 7 7 5 7 7 4 9]\n",
      " [1 8 8 5 8 7 6 3]\n",
      " [6 8 3 7 7 3 2 7]]\n",
      "\n",
      "Reshaped 3D Array:\n",
      "[[[6 7 7 5]\n",
      "  [7 7 4 9]]\n",
      "\n",
      " [[1 8 8 5]\n",
      "  [8 7 6 3]]\n",
      "\n",
      " [[6 8 3 7]\n",
      "  [7 3 2 7]]]\n"
     ]
    }
   ],
   "source": [
    "import numpy as np\n",
    "\n",
    "# Create a 2D array with shape (3, 8)\n",
    "array_2d = np.random.randint(1, 10, size=(3, 8))\n",
    "\n",
    "# Reshape the 2D array to a 3D array with shape (3, 2, 4)\n",
    "array_3d = array_2d.reshape(3, 2, 4)\n",
    "\n",
    "# Display the 2D and 3D arrays\n",
    "print(\"Original 2D Array:\")\n",
    "print(array_2d)\n",
    "\n",
    "print(\"\\nReshaped 3D Array:\")\n",
    "print(array_3d)\n"
   ]
  },
  {
   "cell_type": "markdown",
   "metadata": {},
   "source": [
    "6. Replace all even numbers in the 2D array with 0."
   ]
  },
  {
   "cell_type": "code",
   "execution_count": 9,
   "metadata": {},
   "outputs": [
    {
     "name": "stdout",
     "output_type": "stream",
     "text": [
      "Task 6:\n",
      "Modified Array (even numbers replaced with 0):\n",
      " [[0 7 7 5 7 7 0 9]\n",
      " [1 0 0 5 0 7 0 3]\n",
      " [0 0 3 7 7 3 0 7]] \n",
      "\n"
     ]
    }
   ],
   "source": [
    "array_2d[array_2d % 2 == 0] = 0\n",
    "print(\"Task 6:\\nModified Array (even numbers replaced with 0):\\n\", array_2d, \"\\n\")\n"
   ]
  },
  {
   "cell_type": "markdown",
   "metadata": {},
   "source": [
    "7. Apply the square root function to each element of the 1D array"
   ]
  },
  {
   "cell_type": "code",
   "execution_count": 11,
   "metadata": {},
   "outputs": [
    {
     "name": "stdout",
     "output_type": "stream",
     "text": [
      "[9 8 4 9 4 4 5 9 2 9 7 6 1 9 4 1 8 1 7 9]\n",
      "Task 7:\n",
      "Square root of the array: [3.         2.82842712 2.         3.         2.         2.\n",
      " 2.23606798 3.         1.41421356 3.         2.64575131 2.44948974\n",
      " 1.         3.         2.         1.         2.82842712 1.\n",
      " 2.64575131 3.        ] \n",
      "\n"
     ]
    }
   ],
   "source": [
    "print(array_to_find_mode)\n",
    "sqrt_array = np.sqrt(array_to_find_mode)\n",
    "\n",
    "print(\"Task 7:\\nSquare root of the array:\", sqrt_array, \"\\n\")\n"
   ]
  },
  {
   "cell_type": "markdown",
   "metadata": {},
   "source": [
    "8. Write a NumPy program to create a 3x3 array with random values and \n",
    "subtract the mean of each row from each element.\n"
   ]
  },
  {
   "cell_type": "code",
   "execution_count": 12,
   "metadata": {},
   "outputs": [
    {
     "name": "stdout",
     "output_type": "stream",
     "text": [
      "Task 8:\n",
      "Mean subtracted array:\n",
      " [[ 0.01015008  0.40510403 -0.41525411]\n",
      " [ 0.003418    0.1742904  -0.1777084 ]\n",
      " [ 0.16415576 -0.03458243 -0.12957333]] \n",
      "\n"
     ]
    }
   ],
   "source": [
    "array_3x3 = np.random.random((3, 3))\n",
    "mean_subtracted_array = array_3x3 - np.mean(array_3x3, axis=1, keepdims=True)\n",
    "print(\"Task 8:\\nMean subtracted array:\\n\", mean_subtracted_array, \"\\n\")\n"
   ]
  },
  {
   "cell_type": "markdown",
   "metadata": {},
   "source": [
    "9. Create a 1D array containing the first 20 odd numbers"
   ]
  },
  {
   "cell_type": "code",
   "execution_count": 14,
   "metadata": {},
   "outputs": [
    {
     "name": "stdout",
     "output_type": "stream",
     "text": [
      "Task 9:\n",
      "First 20 odd numbers: [ 1  3  5  7  9 11 13 15 17 19] \n",
      "\n"
     ]
    }
   ],
   "source": [
    "odd_numbers = np.arange(1, 21, step=2)\n",
    "print(\"Task 9:\\nFirst 20 odd numbers:\", odd_numbers, \"\\n\")\n"
   ]
  },
  {
   "cell_type": "markdown",
   "metadata": {},
   "source": [
    "10. Write a NumPy program to create a 5x5 array with random values and find \n",
    "the second-largest value in each column."
   ]
  },
  {
   "cell_type": "code",
   "execution_count": 7,
   "metadata": {},
   "outputs": [],
   "source": [
    "array_5x5_task10 = np.random.random((5, 5))"
   ]
  },
  {
   "cell_type": "code",
   "execution_count": 8,
   "metadata": {},
   "outputs": [
    {
     "name": "stdout",
     "output_type": "stream",
     "text": [
      "[[0.22713993 0.93145605 0.02145509 0.73670153 0.96318997]\n",
      " [0.5733608  0.28225248 0.61301385 0.36667105 0.73989248]\n",
      " [0.54515449 0.96923677 0.84834129 0.07522764 0.21485485]\n",
      " [0.93826006 0.12358852 0.53949125 0.66972464 0.07579362]\n",
      " [0.49319613 0.49374071 0.51449301 0.92150856 0.64656057]]\n",
      "Task 10:\n",
      "Second-largest values for each column: [[0.22713993 0.12358852 0.02145509 0.66972464 0.07579362]\n",
      " [0.49319613 0.49374071 0.51449301 0.07522764 0.21485485]\n",
      " [0.54515449 0.28225248 0.53949125 0.36667105 0.64656057]\n",
      " [0.5733608  0.93145605 0.61301385 0.73670153 0.73989248]\n",
      " [0.93826006 0.96923677 0.84834129 0.92150856 0.96318997]] \n",
      "\n"
     ]
    }
   ],
   "source": [
    "\n",
    "print(array_5x5_task10)\n",
    "second_largest_values = np.partition(array_5x5_task10, -2, axis=0)[-2, :]\n",
    "print(\"Task 10:\\nSecond-largest values for each column:\", second_largest_values, \"\\n\")\n"
   ]
  },
  {
   "cell_type": "markdown",
   "metadata": {},
   "source": [
    "11. Write a NumPy program to create a 4x4 array with random values and find \n",
    "the sum of each row.\n"
   ]
  },
  {
   "cell_type": "code",
   "execution_count": 10,
   "metadata": {},
   "outputs": [
    {
     "name": "stdout",
     "output_type": "stream",
     "text": [
      "Task 11:\n",
      "Sum of each row: [2.15992419 0.41916546 1.86036133 1.34453161]\n"
     ]
    }
   ],
   "source": [
    "array_4x4_task11 = np.random.random((4, 4))\n",
    "sum_of_each_row = np.sum(array_4x4_task11, axis=1)\n",
    "print(\"Task 11:\\nSum of each row:\", sum_of_each_row)"
   ]
  },
  {
   "cell_type": "code",
   "execution_count": null,
   "metadata": {},
   "outputs": [],
   "source": []
  }
 ],
 "metadata": {
  "kernelspec": {
   "display_name": "Python 3",
   "language": "python",
   "name": "python3"
  },
  "language_info": {
   "codemirror_mode": {
    "name": "ipython",
    "version": 3
   },
   "file_extension": ".py",
   "mimetype": "text/x-python",
   "name": "python",
   "nbconvert_exporter": "python",
   "pygments_lexer": "ipython3",
   "version": "3.10.6"
  }
 },
 "nbformat": 4,
 "nbformat_minor": 2
}
