{
 "cells": [
  {
   "cell_type": "markdown",
   "metadata": {},
   "source": [
    "1.\tWrite a program to ask the user to enter number and print the number is odd or even."
   ]
  },
  {
   "cell_type": "code",
   "execution_count": null,
   "metadata": {},
   "outputs": [
    {
     "name": "stdout",
     "output_type": "stream",
     "text": [
      "12 is Even\n"
     ]
    }
   ],
   "source": [
    "num = int(input(\"Enter a number: \"))\n",
    "if (num % 2) == 0:\n",
    "   print(\"{0} is Even\".format(num))\n",
    "   #print(num,\" is Even\")\n",
    "else:\n",
    "   print(\"{0} is Odd\".format(num))"
   ]
  },
  {
   "cell_type": "markdown",
   "metadata": {},
   "source": [
    "2.\tWrite a program to find a maximum and a minimum of three numbers or if the numbers are equal to each other, find if the given number is positive or negative."
   ]
  },
  {
   "cell_type": "code",
   "execution_count": 1,
   "metadata": {},
   "outputs": [
    {
     "name": "stdout",
     "output_type": "stream",
     "text": [
      "Maximum Number is  15\n",
      "Minimum Number is 12\n"
     ]
    }
   ],
   "source": [
    "a = int(input(\"Enter a number: \"))\n",
    "# Input1: 10\n",
    "b = int(input(\"Enter a number: \"))\n",
    "# Input2: 14\n",
    "c = int(input(\"Enter a number: \"))\n",
    "# Input3: 12\n",
    "\n",
    "if (a==b) and (b==c):\n",
    "    if num > 0:\n",
    "        print(\"Positive number\")\n",
    "    elif num == 0:\n",
    "        print(\"Zero\")\n",
    "    else:\n",
    "        print(\"Negative number\")\n",
    "\n",
    "else:    \n",
    "    if (a > b) and (a > c):\n",
    "        maximum = a\n",
    "        if (b>c):\n",
    "            minimum=c\n",
    "        else :  minimum=b  \n",
    "    elif (b >= a) and (b >= c):\n",
    "        maximum = b\n",
    "        if (a>c):\n",
    "            minimum=c\n",
    "        else :  minimum=a    \n",
    "    else:\n",
    "        maximum = c\n",
    "        if (a>b):\n",
    "            minimum=b\n",
    "        else :  minimum=a\n",
    "\n",
    "    print(\"Maximum Number is \",maximum )\n",
    "    print(\"Minimum Number is\", minimum)"
   ]
  },
  {
   "cell_type": "markdown",
   "metadata": {},
   "source": [
    "3.\tWrite a program to check given character is a vowel or consonant. "
   ]
  },
  {
   "cell_type": "code",
   "execution_count": 13,
   "metadata": {},
   "outputs": [
    {
     "name": "stdout",
     "output_type": "stream",
     "text": [
      "The character is Vowel\n"
     ]
    }
   ],
   "source": [
    "character = input(\"Enter a character\")\n",
    "\n",
    "vowel = \"aeiouAEIOU\"\n",
    "if character in vowel :\n",
    "    print(\"The character is Vowel\")\n",
    "else:\n",
    "    print(\"The character is Consonant\")    "
   ]
  },
  {
   "cell_type": "code",
   "execution_count": 2,
   "metadata": {},
   "outputs": [
    {
     "name": "stdout",
     "output_type": "stream",
     "text": [
      "the text does nor contain vowel characters\n"
     ]
    }
   ],
   "source": [
    "txt = input(\"Enter a character\")\n",
    "\n",
    "vowel = \"aeiouAEIOU\"\n",
    "flag = False\n",
    "for i in range (len(txt)):\n",
    "    if txt[i] in vowel:\n",
    "        print(f\"there is a vowel character ( {txt[i]} ) in position ( {i} )\")\n",
    "        flag=True\n",
    "\n",
    "if flag: print()\n",
    "else :\n",
    "    print(\"the text does not contain vowel characters\")\n",
    "\n",
    "\n"
   ]
  },
  {
   "cell_type": "markdown",
   "metadata": {},
   "source": [
    "4.\tWrite a program to display the last digit of a number \n",
    "EX: number =145678 output => 8 \n"
   ]
  },
  {
   "cell_type": "code",
   "execution_count": 11,
   "metadata": {},
   "outputs": [
    {
     "name": "stdout",
     "output_type": "stream",
     "text": [
      "The Last digit of  14678 is  8\n"
     ]
    }
   ],
   "source": [
    "number = int(input(\"Enter Number \"))\n",
    "\n",
    "print (\"The Last digit of \",number,\"is \",number%10)"
   ]
  },
  {
   "cell_type": "markdown",
   "metadata": {},
   "source": [
    "5.\tWrite a program to accept number from user and find if the number is divisible by 2 and 3 both."
   ]
  },
  {
   "cell_type": "code",
   "execution_count": 9,
   "metadata": {},
   "outputs": [
    {
     "name": "stdout",
     "output_type": "stream",
     "text": [
      "Number is not divisible by 2 and 3 both\n"
     ]
    }
   ],
   "source": [
    "number = int(input(\"Enter Number \"))\n",
    " \n",
    "if (number %2 ==0) and (number%3 ==0):\n",
    "    print(\"Number is divisible by 2 and 3 both\")\n",
    "else :\n",
    "    print (\"Number is not divisible by 2 and 3 both\")    "
   ]
  },
  {
   "cell_type": "markdown",
   "metadata": {},
   "source": [
    "6.\tWrite a program to accept the following from the user and calculate the percentage of class attended, if the percentage is less than 75, then student will not be able to sit in exam:\n",
    "-\tTotal number of working days \n",
    "-\tTotal number of days for absent"
   ]
  },
  {
   "cell_type": "code",
   "execution_count": 8,
   "metadata": {},
   "outputs": [
    {
     "name": "stdout",
     "output_type": "stream",
     "text": [
      "you are not eligible for waiting exa\n"
     ]
    }
   ],
   "source": [
    "workingDays=int(input(\"Enter Total Number of working days\"))\n",
    "absentDays=int(input(\"Enter total number of days absent\"))\n",
    "\n",
    "percentage= (workingDays - absentDays)/ workingDays *100 \n",
    "\n",
    "if percentage >=75 :\n",
    "    print(\"You are eligible for waiting exam\")\n",
    "else :\n",
    "    print(\"you are not eligible for waiting exa\")    "
   ]
  },
  {
   "attachments": {
    "image.png": {
     "image/png": "[encoded data removed]"
    }
   },
   "cell_type": "markdown",
   "metadata": {},
   "source": [
    "7.\tWrite a program to accept market price from the user and calculate the price after discount to pay according to following criteria:\n",
    "![image.png](attachment:image.png)"
   ]
  },
  {
   "cell_type": "code",
   "execution_count": 1,
   "metadata": {},
   "outputs": [
    {
     "name": "stdout",
     "output_type": "stream",
     "text": [
      "Price After Discount is 8500.0\n"
     ]
    }
   ],
   "source": [
    "markedPrice=int(input(\"Enter market price\"))\n",
    "discount=0\n",
    "if markedPrice > 10000:\n",
    "    discount= 20/100*markedPrice\n",
    "elif (markedPrice>7000) and (markedPrice<=10000):\n",
    "    discount=15/100*markedPrice\n",
    "elif (markedPrice <=7000):\n",
    "    discount=10/100*markedPrice\n",
    "\n",
    "priceAfterDiscount=markedPrice-discount\n",
    "print(\"Price After Discount is\", priceAfterDiscount)"
   ]
  },
  {
   "cell_type": "markdown",
   "metadata": {},
   "source": [
    "8.\tGiven a string, write a python program that convert the string based on the following conditions: \n",
    "\n",
    "- If lower case letter less than upper case letter convert string to upper case\n",
    "- If upper case letter less than lower case letter convert string to lower case\n"
   ]
  },
  {
   "cell_type": "code",
   "execution_count": 4,
   "metadata": {},
   "outputs": [
    {
     "name": "stdout",
     "output_type": "stream",
     "text": [
      "The new string is  ASDF\n"
     ]
    }
   ],
   "source": [
    "strng=input(\"Enter string \")\n",
    "\n",
    "lower =0 ; upper =0\n",
    "\n",
    "for character in strng:\n",
    "    if character== character.lower():\n",
    "        lower+=1\n",
    "    elif character == character.upper():\n",
    "        upper+=1\n",
    "if lower > upper :\n",
    "    strng=strng.lower()\n",
    "else :\n",
    "      strng=strng.upper()           \n",
    "\n",
    "print(\"The new string is \" , strng)         "
   ]
  },
  {
   "cell_type": "markdown",
   "metadata": {},
   "source": [
    "9.\tWrite a program to accept number from the user and check if the given number is palindrome or Armstrong or not."
   ]
  },
  {
   "cell_type": "code",
   "execution_count": 12,
   "metadata": {},
   "outputs": [
    {
     "name": "stdout",
     "output_type": "stream",
     "text": [
      "7852 is neither an Armstrong number nor a Palindrome Number \n"
     ]
    }
   ],
   "source": [
    "Number=int(input(\"Enter a Number\"))\n",
    "\n",
    "###########Palindrome###########\n",
    "temp_2 = Number\n",
    "reverse = 0\n",
    "while temp_2 > 0:#12321\n",
    "    remainder = temp_2 % 10\n",
    "    reverse = (reverse * 10) + remainder\n",
    "    temp_2 = temp_2 // 10\n",
    "if Number == reverse:\n",
    "    print(Number,\"is a Palindrome Number\")\n",
    "else:\n",
    "      \n",
    "    #########Armstrong#########\n",
    "    sum = 0\n",
    "    temp = Number\n",
    "    while temp > 0:\n",
    "        digit = temp % 10\n",
    "        sum += digit ** 3\n",
    "        temp //= 10\n",
    "    if Number == sum:\n",
    "        print(Number,\"is an Armstrong number\")\n",
    "    else:\n",
    "        print(Number,\"is neither an Armstrong number nor a Palindrome Number \")\n",
    "\n",
    "    \n"
   ]
  },
  {
   "cell_type": "markdown",
   "metadata": {},
   "source": [
    "10.\tWrite a program to accept number from the user and convert it to words \n",
    "-\tEX: 124 > One hundred and twenty-four.\n"
   ]
  },
  {
   "cell_type": "code",
   "execution_count": 1,
   "metadata": {},
   "outputs": [
    {
     "name": "stdout",
     "output_type": "stream",
     "text": [
      "one million and two hundred and threety four thousand and five hundred and sixty seven  \n"
     ]
    }
   ],
   "source": [
    "Number=int(input(\"Enter a Number  \"))\n",
    "\n",
    "numbers=[\"one\" , \"two\" ,\"three\" , \"four\" ,\"five\" ,\"six\" , \"seven\" , \"eight\" ,\"nine\"]\n",
    "number1=[\"ten\", \"eleven\", \"twelve\", \"thriteen\" , \"fourteen\" ,\"fiveteen\" ,\"sixteen\" , \"seventeen\" , \"eighteen\" ,\"nineteen\"]\n",
    "number2=[ \"twenty\" ,\"threety\" , \"fourty\" ,\"fivety\" ,\"sixty\" , \"seventy\" , \"eighty\" ,\"ninety\"]\n",
    "words=[\"hundred\",\"thousand\", \"million\"]\n",
    "count=0\n",
    "strg=\"\"\n",
    "temp=Number\n",
    "while Number!=0:\n",
    "    digit=Number%10\n",
    "    if count==0:\n",
    "        strg=numbers[digit-1]+strg\n",
    "    elif count==1 or count==4:\n",
    "      if digit ==1:\n",
    "          d=temp%10\n",
    "          strg=' '.join(strg.split(' ')[1:])\n",
    "          strg=number1[d]+\" \"+strg+\" \"  \n",
    "      else:    \n",
    "          strg=number2[digit-2]+\" \"+strg+\" \"    \n",
    "    elif count==2 or count==3 :\n",
    "         st=numbers[digit-1]+\" \"\n",
    "         st=st+words[count-2]\n",
    "         strg=st+\" and \"+strg\n",
    "         st=\"\"\n",
    "    elif count ==5 or count ==6:\n",
    "         st=numbers[digit-1]+\" \"\n",
    "         st=st+words[(count%5)*2]\n",
    "         strg=st+\" and \"+strg\n",
    "         st=\"\"\n",
    "    else :\n",
    "         print(\"please enter number less than 7 digits\")     \n",
    "    count+=1 \n",
    "    temp=Number\n",
    "    Number=Number //10\n",
    "\n",
    "print(strg)    \n"
   ]
  },
  {
   "cell_type": "markdown",
   "metadata": {},
   "source": [
    "11.\t Write a program to find the sum of the following series:\n",
    "1 + 4 – 9 +16 – 25 + 36 ………..n terms \n"
   ]
  },
  {
   "cell_type": "code",
   "execution_count": 7,
   "metadata": {},
   "outputs": [
    {
     "name": "stdout",
     "output_type": "stream",
     "text": [
      "-13 is the sum of series \n",
      "-13\n"
     ]
    }
   ],
   "source": [
    "n = int(input(\"Enter n \"))\n",
    "sum_even=1\n",
    "sum_odd=0\n",
    "for i in range(1,n):\n",
    "    if (i+1)%2==0:\n",
    "        sum_even+=(i+1)**2    \n",
    "\n",
    "    else:\n",
    "        sum_odd+=(i+1)**2 \n",
    "\n",
    "\n",
    "sum = sum_even-sum_odd\n",
    "print(sum , \"is the sum of series \") \n",
    "print(1+4-9+16-25)          "
   ]
  },
  {
   "cell_type": "markdown",
   "metadata": {},
   "source": [
    "12.\tWrite a program to count number of “car” word in a string accepted from user and the positions of them. "
   ]
  },
  {
   "cell_type": "code",
   "execution_count": 2,
   "metadata": {},
   "outputs": [
    {
     "name": "stdout",
     "output_type": "stream",
     "text": [
      "Total occurrences are:  2\n",
      "The positions of them are:  [0, 5]\n"
     ]
    },
    {
     "ename": "",
     "evalue": "",
     "output_type": "error",
     "traceback": [
      "\u001b[1;31mThe Kernel crashed while executing code in the the current cell or a previous cell. Please review the code in the cell(s) to identify a possible cause of the failure. Click <a href='https://aka.ms/vscodeJupyterKernelCrash'>here</a> for more info. View Jupyter <a href='command:jupyter.viewOutput'>log</a> for further details."
     ]
    }
   ],
   "source": [
    "strng= input(\"Enter text \")\n",
    "sub_string=\"car\"\n",
    "indx=strng.find(sub_string)\n",
    "indx_list=[]\n",
    "if indx==-1 :\n",
    "     print(\"the word doesnt exist\")  \n",
    "else:\n",
    "     indx_list.append(indx)         \n",
    "     count=1\n",
    "     start_index=indx+len(sub_string)\n",
    "     for i in range(indx+len(sub_string),len(strng)):\n",
    "          j = strng.find(sub_string,start_index)\n",
    "          if(j!=-1):\n",
    "               start_index = j+len(sub_string)\n",
    "               count+=1\n",
    "               indx_list.append(j) \n",
    "\n",
    "print(\"Total occurrences are: \", count)\n",
    "print(\"The positions of them are: \",indx_list )#carydcar\n"
   ]
  },
  {
   "cell_type": "code",
   "execution_count": 3,
   "metadata": {},
   "outputs": [
    {
     "name": "stdout",
     "output_type": "stream",
     "text": [
      "Total occurrences are:  2\n",
      "The positions of them are:  [3, 10]\n"
     ]
    }
   ],
   "source": [
    "strng= input(\"Enter text \")\n",
    "sub_string=\"car\"\n",
    "print(\"Total occurrences are: \", strng.count(\"car\"))\n",
    "indx_list = []\n",
    "indx = strng.find(sub_string)\n",
    "if indx==-1 :\n",
    "     print(\"the word doesnt exist\")  \n",
    "else:\n",
    "    indx_list.append(indx)\n",
    "    while True:\n",
    "        index = strng.find(sub_string, index + 1)\n",
    "        if index == -1:\n",
    "            break\n",
    "        indx_list.append(index)\n",
    "print(\"The positions of them are: \",indx_list )"
   ]
  },
  {
   "cell_type": "markdown",
   "metadata": {},
   "source": [
    "13.\tWrite a program to check whether an input string is palindrome or not."
   ]
  },
  {
   "cell_type": "code",
   "execution_count": 21,
   "metadata": {},
   "outputs": [
    {
     "name": "stdout",
     "output_type": "stream",
     "text": [
      "asdfdsa is a palindrome word\n"
     ]
    }
   ],
   "source": [
    "strng=input(\"Enter string\")\n",
    "st=\"\" \n",
    "for i in range(len(strng),0,-1):#or ----> strng[::-1]\n",
    "    st=st+strng[i-1]\n",
    "\n",
    "if  strng.lower() == st.lower():\n",
    "    print(strng, \"is a palindrome word\")\n",
    "else:\n",
    "     print(strng, \"is not a palindrome word\")      "
   ]
  },
  {
   "attachments": {
    "image.png": {
     "image/png": "[encoded data removed]"
    }
   },
   "cell_type": "markdown",
   "metadata": {},
   "source": [
    "14.\tWrite a program to print the following pattern:\n",
    "\n",
    "\n",
    "![image.png](attachment:image.png)\n"
   ]
  },
  {
   "cell_type": "code",
   "execution_count": 16,
   "metadata": {},
   "outputs": [
    {
     "name": "stdout",
     "output_type": "stream",
     "text": [
      "1 \n",
      "1 2 \n",
      "1 2 3 \n",
      "1 2 3 4 \n",
      "* * * * \n",
      "* * * \n",
      "* * \n",
      "* \n"
     ]
    }
   ],
   "source": [
    "#a)\n",
    " \n",
    "for i in range(1,5):\n",
    "    for j in range(1,i+1):\n",
    "        print(j, end=\" \") \n",
    "    print()   \n",
    "\n",
    "\n",
    "#b) \n",
    "for i in range(4,0,-1):\n",
    "    for j in range(i):\n",
    "        print(\"*\", end=\" \") \n",
    "    print()   \n",
    "     "
   ]
  }
 ],
 "metadata": {
  "kernelspec": {
   "display_name": "Python 3",
   "language": "python",
   "name": "python3"
  },
  "language_info": {
   "codemirror_mode": {
    "name": "ipython",
    "version": 3
   },
   "file_extension": ".py",
   "mimetype": "text/x-python",
   "name": "python",
   "nbconvert_exporter": "python",
   "pygments_lexer": "ipython3",
   "version": "3.10.6"
  }
 },
 "nbformat": 4,
 "nbformat_minor": 2
}
