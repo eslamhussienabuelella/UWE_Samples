{
 "cells": [
  {
   "cell_type": "markdown",
   "metadata": {},
   "source": [
    "1.\tWrite a program that ask user to enter input (text or number or number with text):\n",
    "-\tIn case the input is number get the summation of its digits.\n",
    "-\tIn case the input is text remove the spaces.\n",
    "-\tIn case number with text split them, number and text each individually."
   ]
  },
  {
   "cell_type": "code",
   "execution_count": 1,
   "metadata": {},
   "outputs": [
    {
     "name": "stdout",
     "output_type": "stream",
     "text": [
      "Text without spaces:sgk\n"
     ]
    }
   ],
   "source": [
    "# Get user input\n",
    "user_input = input('Please enter input (text or number or number with text): ')\n",
    "# Check type of input\n",
    "if user_input.isdigit():      # isnumeric\n",
    "    # Get summation of digits\n",
    "    summation = 0\n",
    "    for digit in user_input:\n",
    "        summation += int(digit)\n",
    "    print('Summation of digits is', summation)\n",
    "\n",
    "elif user_input.replace(\" \", \"\").isalpha():\n",
    "    text_without_spaces = user_input.replace(\" \",\"\")\n",
    "    print(\"Text without spaces:{}\".format(text_without_spaces))\n",
    "else:\n",
    "    # Split number and text\n",
    "    numbers = [x for x in user_input if x.isdigit()]\n",
    "    text = [x for x in user_input if x.isalpha()]\n",
    "\n",
    "    text = ''.join(text).replace(' ', '')\n",
    "    print('Number is', ''.join(numbers))\n",
    "    print('Text is', text)"
   ]
  },
  {
   "cell_type": "markdown",
   "metadata": {},
   "source": [
    "2.\tWrite a function which accept a string as argument and display total number of words."
   ]
  },
  {
   "cell_type": "code",
   "execution_count": 36,
   "metadata": {},
   "outputs": [
    {
     "name": "stdout",
     "output_type": "stream",
     "text": [
      "Total number of words : 8\n"
     ]
    }
   ],
   "source": [
    "def word_count(string): \n",
    "    count = len(string.split()) \n",
    "    return count \n",
    "  \n",
    "# Driver Code \n",
    "\n",
    "string= input(\"enter text .....\")\n",
    "#string = \"Geeks for Geeks is a computer science portal\"\n",
    "print(\"Total number of words :\", word_count(string))"
   ]
  },
  {
   "cell_type": "markdown",
   "metadata": {},
   "source": [
    "3.\tWrite function pow() that calculates the power, which takes base and exponent as arguments."
   ]
  },
  {
   "cell_type": "code",
   "execution_count": 41,
   "metadata": {},
   "outputs": [
    {
     "name": "stdout",
     "output_type": "stream",
     "text": [
      "the power of base 2 and exponent 2 is  4\n"
     ]
    }
   ],
   "source": [
    "# This function calculates the power of a given base and exponent\n",
    "def pow(base, exponent):\n",
    "  # Initializing result as 1\n",
    "  result = 1\n",
    "  \n",
    "  # Multiply base with itself, exponent number of times\n",
    "  for i in range(exponent):\n",
    "    result *=base\n",
    "    \n",
    "  # Return the result\n",
    "  return result  \n",
    "  \n",
    "# Get input from user for base and exponent\n",
    "base  = int(input(\"enter base num  ..... \"))\n",
    "ex  = int(input(\"enter exponent num ..... \"))\n",
    "\n",
    "# Calculate the power of base and exponent\n",
    "power_of= pow(base,ex)\n",
    "\n",
    "# Print the result\n",
    "print(\"the power of base {} and exponent {} is  {}\".format(base, ex, power_of))\n"
   ]
  },
  {
   "cell_type": "markdown",
   "metadata": {},
   "source": [
    "4.\tWrite function area() that calculates the area of the shape."
   ]
  },
  {
   "cell_type": "code",
   "execution_count": 44,
   "metadata": {},
   "outputs": [
    {
     "name": "stdout",
     "output_type": "stream",
     "text": [
      "Area of square: 25\n",
      "Area of rectangle: 24\n",
      "Area of circle: 28.274333882308138\n",
      "Area of triangle: 16.0\n"
     ]
    }
   ],
   "source": [
    "# This function calculates the area of a given 2D shape\n",
    "def area(shape, *args):\n",
    "    # Convert shape to lowercase \n",
    "    shape = shape.lower()  \n",
    "    pi=3.14\n",
    "    if shape == 'square':\n",
    "        # Get side length from arguments \n",
    "        side = args[0]\n",
    "        # Calculate and return area of square\n",
    "        return side * side\n",
    "    \n",
    "    elif shape == 'rectangle':\n",
    "        # Get length and width from arguments \n",
    "        length, width = args\n",
    "        # Calculate and return area of rectangle\n",
    "        return length * width\n",
    "    \n",
    "    elif shape == 'circle':\n",
    "        # Get radius from arguments \n",
    "        radius = args[0]\n",
    "        # Calculate and return area of circle\n",
    "        return pi * radius * radius\n",
    "    \n",
    "    elif shape == 'triangle':\n",
    "        # Get base and height from arguments \n",
    "        base, height = args\n",
    "        # Calculate and return area of triangle\n",
    "        return 0.5 * base * height\n",
    "    \n",
    "    else:\n",
    "        # Return error message if invalid shape or insufficient arguments provided\n",
    "        return \"Invalid shape or insufficient arguments provided\"\n",
    "    \n",
    "\n",
    "#shape = input(\"Enter the shape: \")\n",
    "#user_input = input(\"Enter elements: \")\n",
    "# Split the input string into individual elements\n",
    "#elements = user_input.split()\n",
    "#elements = [int(element) for element in elements]\n",
    "\n",
    "# Examples of using the area function\n",
    "# Calculate area for a square (side length = 5)\n",
    "print(\"Area of square:\", area('square', 5))\n",
    "\n",
    "# Calculate area for a rectangle (length = 4, width = 6)\n",
    "print(\"Area of rectangle:\", area('rectangle', 4, 6))\n",
    "\n",
    "# Calculate area for a circle (radius = 3)\n",
    "print(\"Area of circle:\", area('circle', 3))\n",
    "\n",
    "# Calculate area for a triangle (base = 4, height = 8)\n",
    "print(\"Area of triangle:\", area('triangle', 4, 8))\n",
    "\n",
    "\n"
   ]
  },
  {
   "cell_type": "markdown",
   "metadata": {},
   "source": [
    "5.\tWrite a program to find the sum of all numbers in a list."
   ]
  },
  {
   "cell_type": "code",
   "execution_count": 47,
   "metadata": {},
   "outputs": [
    {
     "name": "stdout",
     "output_type": "stream",
     "text": [
      "The sum of all numbers in the list is 10\n"
     ]
    }
   ],
   "source": [
    "user_input = input(\"Enter elements: \")\n",
    "# Split the input string into individual elements\n",
    "list_of_numbers = user_input.split()\n",
    "list_of_numbers_ = [] \n",
    "for element in list_of_numbers:\n",
    "    list_of_numbers_.append(int (element))\n",
    "\n",
    "\n",
    "#list_of_numbers = [1, 2, 3, 4, 5]\n",
    "total = 0\n",
    "for number in list_of_numbers_: \n",
    "    total += number \n",
    "print(\"The sum of all numbers in the list is\", total)"
   ]
  },
  {
   "cell_type": "markdown",
   "metadata": {},
   "source": [
    "6.\tWrite a program to concatenate two tuples then get the max and min element."
   ]
  },
  {
   "cell_type": "code",
   "execution_count": 48,
   "metadata": {},
   "outputs": [
    {
     "name": "stdout",
     "output_type": "stream",
     "text": [
      "Maximum element in the tuple3 is : 6\n",
      "Minimum element in the tuple3 is : 1\n"
     ]
    }
   ],
   "source": [
    "# Tuples to concatenate\n",
    "tuple1 = (1, 2, 3) \n",
    "tuple2 = (4, 5, 6) \n",
    "  \n",
    "# Concatenating tuples \n",
    "tuple3 = tuple1 + tuple2 \n",
    "  \n",
    "# Get maximum element in tuple3 \n",
    "print(\"Maximum element in the tuple3 is :\", max(tuple3)) \n",
    "  \n",
    "# Get minimum element in tuple3 \n",
    "print(\"Minimum element in the tuple3 is :\", min(tuple3))"
   ]
  },
  {
   "cell_type": "markdown",
   "metadata": {},
   "source": [
    "7.\tWrite a function that takes tuple as argument and if length of tuple greater than 5, return the count of number elements. Note that the tuple may be with different data types."
   ]
  },
  {
   "cell_type": "code",
   "execution_count": 49,
   "metadata": {},
   "outputs": [
    {
     "name": "stdout",
     "output_type": "stream",
     "text": [
      "Count of numeric elements: 7\n"
     ]
    }
   ],
   "source": [
    "# This function takes a tuple as an argument and returns the number of numeric elements in it\n",
    "# if the length of the tuple is greater than 5\n",
    "def count_numeric_elements(tuple_arg):\n",
    "    # Check if the length of the tuple is greater than 5\n",
    "    if len(tuple_arg) > 5:\n",
    "        # Calculate the sum of all numeric elements in the tuple\n",
    "        numeric_count = sum(1 for element in tuple_arg if isinstance(element, (int, float)))\n",
    "        # Return the count of the numeric elements\n",
    "        return numeric_count\n",
    "    else:\n",
    "        # Return this message if the length of the tuple is not greater than 5\n",
    "        return \"Tuple length is not greater than 5\"\n",
    "    \n",
    "# Tuple with different data types\n",
    "my_tuple = (1, 'apple', 3.14, 'banana', 5, 6, 7, 8, 9)\n",
    "\n",
    "# Calling the function with the tuple as an argument\n",
    "result = count_numeric_elements(my_tuple)\n",
    "\n",
    "# Display the result\n",
    "print(\"Count of numeric elements:\", result)\n"
   ]
  },
  {
   "cell_type": "markdown",
   "metadata": {},
   "source": [
    "8. Write a function which will able to print a index of list element without using index function."
   ]
  },
  {
   "cell_type": "code",
   "execution_count": null,
   "metadata": {},
   "outputs": [],
   "source": [
    "# This is a list containing numbers and strings \n",
    "l=[1,2,3,4,\"mona\",\"lisha\"] \n",
    "\n",
    "# Function to loop through the list and print each element and its index \n",
    "def test1(li):\n",
    "    for i in range(0,len(li)): # Loop through all elements of the list\n",
    "        print(li[i],\":\",i) # Print element and its index"
   ]
  },
  {
   "cell_type": "markdown",
   "metadata": {},
   "source": [
    "9. Write a Python function to check whether a number falls within a given range."
   ]
  },
  {
   "cell_type": "code",
   "execution_count": 4,
   "metadata": {},
   "outputs": [
    {
     "name": "stdout",
     "output_type": "stream",
     "text": [
      "5 is in the range\n"
     ]
    }
   ],
   "source": [
    "def test_range(n, x,y):\n",
    "    # Check if 'n' is within the range from 3 to 8 (inclusive) using the 'in range()' statement\n",
    "    if n in range(x, y):\n",
    "        # If 'n' is within the range, print that 'n' is within the given range\n",
    "        print(\"%s is in the range\" % str(n))\n",
    "    else:\n",
    "        # If 'n' is outside the range, print that the number is outside the given range\n",
    "        print(\"The number is outside the given range.\")\n",
    "\n",
    "# Call the 'test_range' function with the argument 5\n",
    "test_range(5,3,9)"
   ]
  },
  {
   "cell_type": "markdown",
   "metadata": {},
   "source": [
    "10.\tWrite a Python function that takes a number as a parameter and checks whether the number is prime or not."
   ]
  },
  {
   "cell_type": "code",
   "execution_count": 50,
   "metadata": {},
   "outputs": [
    {
     "name": "stdout",
     "output_type": "stream",
     "text": [
      "12 is not a prime number\n"
     ]
    }
   ],
   "source": [
    "# Function to check if a number is prime or not\n",
    "def is_prime(number):\n",
    "    # Numbers less than or equal to 1 are not prime\n",
    "    if number <= 1:\n",
    "        return False \n",
    "    \n",
    "    # Check for factors from 2 to the square root of the number\n",
    "    for i in range(2, int(number ** 0.5) + 1):\n",
    "        if number % i == 0:\n",
    "            return False  \n",
    "    \n",
    "    # If there are no factors, then it is a prime number\n",
    "    return True  \n",
    "\n",
    "\n",
    "# Number to check for primality\n",
    "number = int(input(\"Enter a number: \"))\n",
    "\n",
    "# Check if the number is prime and display the result\n",
    "if is_prime(number):\n",
    "    print(number, \"is a prime number\")\n",
    "else:\n",
    "    print(number, \"is not a prime number\")\n"
   ]
  },
  {
   "cell_type": "markdown",
   "metadata": {},
   "source": [
    "11. Write a Python program to calculate the average value of the numbers in a given tuple of tuples.\n",
    "Original Tuple:\n",
    "((10, 10, 10, 12), (30, 45, 56, 45), (81, 80, 39, 32), (1, 2, 3, 4))\n",
    "Average value of the numbers of the said tuple of tuples:\n",
    "[30.5, 34.25, 27.0, 23.25]"
   ]
  },
  {
   "cell_type": "code",
   "execution_count": 3,
   "metadata": {},
   "outputs": [
    {
     "name": "stdout",
     "output_type": "stream",
     "text": [
      "Original Tuple: \n",
      "((10, 10, 10, 12), (30, 45, 56, 45), (81, 80, 39, 32), (1, 2, 3, 4))\n",
      "\n",
      "Average value of the numbers of the said tuple of tuples:\n",
      " [10.5, 44.0, 58.0, 2.5]\n",
      "\n",
      "Original Tuple: \n",
      "((1, 1, -5), (30, -15, 56), (81, -60, -39), (-10, 2, 3))\n",
      "\n",
      "Average value of the numbers of the said tuple of tuples:\n",
      " [-1.0, 23.666666666666668, -6.0, -1.6666666666666667]\n"
     ]
    }
   ],
   "source": [
    "def average_tuple(nums):\n",
    "    # Calculate the average values of the numbers within the 'nums' tuple of tuples.\n",
    "    # Use list comprehension to calculate the sum of elements for each position across all inner tuples,\n",
    "    # and then divide by the number of inner tuples to get the average for each position.\n",
    "    result = [sum(x) / len(x) for x in nums]\n",
    "    \n",
    "    # Return the list of average values.\n",
    "    return result\n",
    "\n",
    "# Create a tuple of tuples 'nums' containing four inner tuples with numbers.\n",
    "nums = ((10, 10, 10, 12), (30, 45, 56, 45), (81, 80, 39, 32), (1, 2, 3, 4))\n",
    "\n",
    "# Print a message indicating the original tuple.\n",
    "print (\"Original Tuple: \")\n",
    "\n",
    "# Print the 'nums' tuple of tuples.\n",
    "print(nums)\n",
    "\n",
    "# Print a message indicating the average values, which are calculated using the 'average_tuple' function.\n",
    "print(\"\\nAverage value of the numbers of the said tuple of tuples:\\n\", average_tuple(nums))\n",
    "\n",
    "# Create another tuple of tuples 'nums' with a different set of numbers.\n",
    "nums = ((1, 1, -5), (30, -15, 56), (81, -60, -39), (-10, 2, 3))\n",
    "\n",
    "# Print a message indicating the original tuple.\n",
    "print (\"\\nOriginal Tuple: \")\n",
    "\n",
    "# Print the 'nums' tuple of tuples.\n",
    "print(nums)\n",
    "\n",
    "# Print a message indicating the average values, which are calculated using the 'average_tuple' function.\n",
    "print(\"\\nAverage value of the numbers of the said tuple of tuples:\\n\", average_tuple(nums)) "
   ]
  },
  {
   "cell_type": "markdown",
   "metadata": {},
   "source": [
    "12. Write a Python program to check if a list is empty or not. if not, sort it in decreasing order.  in python"
   ]
  },
  {
   "cell_type": "code",
   "execution_count": 58,
   "metadata": {},
   "outputs": [
    {
     "name": "stdout",
     "output_type": "stream",
     "text": [
      "List is not empty\n",
      "[3, 5, 7, 9, 10]\n"
     ]
    }
   ],
   "source": [
    "# Python program to check if a list is empty or not \n",
    "# Create a list with some elements \n",
    "my_list = [10, 3, 5, 7, 9] \n",
    "  \n",
    "# Check if the list is empty \n",
    "if not my_list: \n",
    "    print(\"List is empty\") \n",
    "else: \n",
    "    print(\"List is not empty\") \n",
    "    # Sort the list in ascending order \n",
    "    my_list.sort() \n",
    "    # sorting the list in decreasing order\n",
    "    #my_list.sort(reverse=True)\n",
    "\n",
    "    # Print the sorted list \n",
    "    print(my_list)"
   ]
  },
  {
   "cell_type": "markdown",
   "metadata": {},
   "source": [
    "13. Write a Python function that takes two lists and returns True if they have at least one common member."
   ]
  },
  {
   "cell_type": "code",
   "execution_count": 1,
   "metadata": {},
   "outputs": [
    {
     "name": "stdout",
     "output_type": "stream",
     "text": [
      "True\n",
      "None\n"
     ]
    }
   ],
   "source": [
    "def common_data(list1, list2):\n",
    "    # Initialize a variable 'result' to False to indicate no common elements initially\n",
    "    result = False\n",
    "\n",
    "    # Iterate through each element 'x' in 'list1'\n",
    "    for x in list1:\n",
    "        # Iterate through each element 'y' in 'list2'\n",
    "        for y in list2:\n",
    "            # Check if the current elements 'x' and 'y' are equal\n",
    "            if x == y:\n",
    "                # If there's a common element, set 'result' to True and return it\n",
    "                result = True\n",
    "                return result\n",
    "\n",
    "# Call the 'common_data' function with two lists and print the result\n",
    "print(common_data([1, 2, 3, 4, 5], [5, 6, 7, 8, 9]))\n",
    "# Call the 'common_data' function with two lists and print the result\n",
    "print(common_data([1, 2, 3, 4, 5], [6, 7, 8, 9])) "
   ]
  },
  {
   "cell_type": "markdown",
   "metadata": {},
   "source": [
    "14. Write a Python program to print the numbers of a specified list after removing even numbers from it."
   ]
  },
  {
   "cell_type": "code",
   "execution_count": null,
   "metadata": {},
   "outputs": [],
   "source": [
    "# Create a list 'num' containing several integer values\n",
    "num = [7, 8, 120, 25, 44, 20, 27]\n",
    "\n",
    "# Use a list comprehension to create a new list 'num' that includes only the elements from the original list\n",
    "# where the element is not divisible by 2 (i.e., not even)\n",
    "num = [x for x in num if x % 2 != 0]\n",
    "\n",
    "# Print the modified 'num' list, which contains only odd values\n",
    "print(num)"
   ]
  }
 ],
 "metadata": {
  "kernelspec": {
   "display_name": "Python 3",
   "language": "python",
   "name": "python3"
  },
  "language_info": {
   "codemirror_mode": {
    "name": "ipython",
    "version": 3
   },
   "file_extension": ".py",
   "mimetype": "text/x-python",
   "name": "python",
   "nbconvert_exporter": "python",
   "pygments_lexer": "ipython3",
   "version": "3.10.6"
  }
 },
 "nbformat": 4,
 "nbformat_minor": 2
}
